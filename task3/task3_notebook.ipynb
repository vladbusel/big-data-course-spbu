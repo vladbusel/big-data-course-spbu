{
 "cells": [
  {
   "cell_type": "code",
   "execution_count": 1,
   "metadata": {},
   "outputs": [],
   "source": [
    "import pyspark\n",
    "from pyspark.sql import SparkSession\n",
    "import pyspark.sql.functions as F\n",
    "from pyspark.sql.types import StructType, StructField, StringType, IntegerType\n"
   ]
  },
  {
   "cell_type": "code",
   "execution_count": 115,
   "metadata": {},
   "outputs": [],
   "source": [
    "spark = SparkSession.builder.appName('pyspark').getOrCreate()\n",
    "\n",
    "FILENAME = '../cik.csv'\n",
    "# regin,tik,uik,registered_voters,total_ballots,early_voters,tik_voters,home_voters,empty_ballots,home_ballots,tik_ballots,\n",
    "# bad_ballots,normal_ballots,missing_ballots,extra_ballots,baburin,grudinin,zhirinovsky,putin,sobchak,suraykin,titov,yavlinsky\n",
    "schema = StructType([\n",
    "    StructField('region', StringType(), False),\n",
    "    StructField('tik', StringType(), False),\n",
    "    StructField('uik', StringType(), False),\n",
    "    StructField('registered_voters', IntegerType(), False),\n",
    "    StructField('total_ballots', IntegerType(), False),\n",
    "    StructField('early_voters', IntegerType(), False),\n",
    "    StructField('tik_voters', IntegerType(), False),\n",
    "    StructField('home_voters', IntegerType(), False),\n",
    "    StructField('empty_ballots', IntegerType(), False),\n",
    "    StructField('home_ballots', IntegerType(), False),\n",
    "    StructField('tik_ballots', IntegerType(), False),\n",
    "    StructField('bad_ballots', IntegerType(), False),\n",
    "    StructField('normal_ballots', IntegerType(), False),\n",
    "    StructField('missing_ballots', IntegerType(), False),\n",
    "    StructField('extra_ballots', IntegerType(), False),\n",
    "    StructField('baburin', IntegerType(), False),\n",
    "    StructField('grudinin', IntegerType(), False),\n",
    "    StructField('zhirinovsky', IntegerType(), False),\n",
    "    StructField('putin', IntegerType(), False),\n",
    "    StructField('sobchak', IntegerType(), False),\n",
    "    StructField('suraykin', IntegerType(), False),\n",
    "    StructField('titov', IntegerType(), False),\n",
    "    StructField('yavlinsky', IntegerType(), False),\n",
    "])\n",
    "\n",
    "df = spark.read.csv(FILENAME, schema=schema)\n",
    "\n"
   ]
  },
  {
   "cell_type": "markdown",
   "metadata": {},
   "source": [
    "Явка (%) по всем регионам, результат отсортирован по убыванию"
   ]
  },
  {
   "cell_type": "code",
   "execution_count": 116,
   "metadata": {},
   "outputs": [
    {
     "name": "stdout",
     "output_type": "stream",
     "text": [
      "+--------------------+------------------+\n",
      "|              region|        appearance|\n",
      "+--------------------+------------------+\n",
      "|Территория за пре...|0.9806986984380843|\n",
      "|     Республика Тыва|0.9366369316170003|\n",
      "|Ямало-Ненецкий ав...|0.9190125747324195|\n",
      "|Кабардино-Балкарс...|0.9180157863562131|\n",
      "|Республика Северн...|0.8998810071492768|\n",
      "| Республика Дагестан|0.8747795414462081|\n",
      "|Карачаево-Черкесс...|0.8740544668203033|\n",
      "| Кемеровская область|0.8322733516003962|\n",
      "|Чукотский автоном...|0.8228138695924391|\n",
      "|Республика Ингушетия|0.8195937165135314|\n",
      "|    Брянская область| 0.797078003370434|\n",
      "|   Тюменская область|0.7892544508025854|\n",
      "|  Краснодарский край|0.7786760339047925|\n",
      "|Республика Татарс...|0.7742157684137118|\n",
      "|Чувашская Республ...|0.7622296238501433|\n",
      "|Республика Башкор...|0.7544523455707033|\n",
      "|  Республика Бурятия|0.7519978782127258|\n",
      "|Республика Адыгея...|0.7431189118555477|\n",
      "| Ставропольский край|0.7384811380095883|\n",
      "|  Пензенская область|0.7374614571776765|\n",
      "+--------------------+------------------+\n",
      "only showing top 20 rows\n",
      "\n"
     ]
    }
   ],
   "source": [
    "counted_votes_sum_cols = ['early_voters_sum', 'tik_voters_sum', 'home_voters_sum']\n",
    "\n",
    "grouped = df.groupBy(['region']) \\\n",
    "    .agg(F.sum('early_voters').alias('early_voters_sum'),\n",
    "         F.sum('tik_voters').alias('tik_voters_sum'),\n",
    "         F.sum('home_voters').alias('home_voters_sum'),\n",
    "         F.sum('registered_voters').alias('registered_voters_sum'))\\\n",
    "    .dropna()\n",
    "\n",
    "appearance = grouped.withColumn('appearance',\n",
    "  (sum([F.col(col) for col in counted_votes_sum_cols]) / F.col('registered_voters_sum')))\n",
    "      \n",
    "appearance.sort('appearance', ascending=False).select(['region', 'appearance']).show()\n",
    "\n"
   ]
  },
  {
   "cell_type": "markdown",
   "metadata": {},
   "source": [
    "Выбрать произвольного кандидата и найти тот избирательный участок,\n",
    "на котором он получил наибольший результат (учитывать участки на которых проголосовало больше 300 человек)"
   ]
  },
  {
   "cell_type": "code",
   "execution_count": 114,
   "metadata": {},
   "outputs": [
    {
     "name": "stdout",
     "output_type": "stream",
     "text": [
      "+--------------------+--------------------+---------+----------------+-----------+-----------+\n",
      "|              region|                 tik|      uik|         percent|zhirinovsky|total_voted|\n",
      "+--------------------+--------------------+---------+----------------+-----------+-----------+\n",
      "|Новгородская область|Новгородcкая горо...|УИК №1194|0.39119804400978|        160|        422|\n",
      "+--------------------+--------------------+---------+----------------+-----------+-----------+\n",
      "only showing top 1 row\n",
      "\n"
     ]
    }
   ],
   "source": [
    "counted_votes_cols = ['early_voters', 'tik_voters', 'home_voters']\n",
    "canditate = 'zhirinovsky'\n",
    "voted = df.withColumn('total_voted', sum([F.col(col) for col in counted_votes_cols]))\n",
    "canditate_votes = voted.filter(voted.total_voted > 300) \\\n",
    "    .select(\n",
    "        df.region,\n",
    "        df.tik,\n",
    "        df.uik,\n",
    "        (F.col(canditate)/df.normal_ballots).alias('percent'),\n",
    "         F.col(canditate),\n",
    "         F.col('total_voted')\n",
    ").dropna() \\\n",
    ".sort(F.col('percent'), ascending=False) \\\n",
    ".show(1)"
   ]
  },
  {
   "cell_type": "markdown",
   "metadata": {},
   "source": [
    "Регион, где разница между ТИК с наибольшей явкой и наименьшей максимальна (%)"
   ]
  },
  {
   "cell_type": "code",
   "execution_count": 96,
   "metadata": {},
   "outputs": [
    {
     "name": "stdout",
     "output_type": "stream",
     "text": [
      "+--------------------+----------------+-------------------+-------------------+\n",
      "|              region|          max_ap|             min_ap|               diff|\n",
      "+--------------------+----------------+-------------------+-------------------+\n",
      "|Архангельская обл...|0.99795605518651|0.49936440677966104|0.49859164840684894|\n",
      "+--------------------+----------------+-------------------+-------------------+\n",
      "only showing top 1 row\n",
      "\n"
     ]
    }
   ],
   "source": [
    "grouped = df.groupBy(['region', 'tik']) \\\n",
    "    .agg(F.sum('early_voters').alias('early_voters_sum'),\n",
    "         F.sum('tik_voters').alias('tik_voters_sum'),\n",
    "         F.sum('home_voters').alias('home_voters_sum'),\n",
    "         F.sum('registered_voters').alias('registered_voters_sum'))\\\n",
    "    .dropna()\n",
    "\n",
    "appearance = grouped.withColumn('appearance',\n",
    "  (sum([F.col(col) for col in counted_votes_sum_cols]) / F.col('registered_voters_sum')))\n",
    "\n",
    "\n",
    "appearance_diff = appearance.drop('early_voters_sum', 'tik_voters_sum', 'home_voters_sum', 'registered_voters_sum')\n",
    "\n",
    "appearance_diff = appearance_diff.groupBy(['region']) \\\n",
    "    .agg(F.max('appearance').alias('max_ap'),\n",
    "         F.min('appearance').alias('min_ap'))\n",
    "\n",
    "appearance_diff = appearance_diff.withColumn('diff', appearance_diff.max_ap - appearance_diff.min_ap) \\\n",
    ".sort('diff', ascending=False)\n",
    "\n",
    "appearance_diff.show(1)"
   ]
  },
  {
   "cell_type": "markdown",
   "metadata": {},
   "source": [
    "Дисперсия по явке для каждого региона (по УИК)"
   ]
  },
  {
   "cell_type": "code",
   "execution_count": 99,
   "metadata": {},
   "outputs": [
    {
     "name": "stdout",
     "output_type": "stream",
     "text": [
      "+--------------------+-------------------+\n",
      "|              region|                std|\n",
      "+--------------------+-------------------+\n",
      "|Республика Саха (...|0.11374120492897338|\n",
      "|  Республика Хакасия|0.11719818576021894|\n",
      "|Республика Ингушетия| 0.0697747654830594|\n",
      "|Удмуртская Респуб...|0.09658085675037424|\n",
      "|     Камчатский край|0.16861471602822437|\n",
      "|Республика Башкор...|0.12284393684931046|\n",
      "|Карачаево-Черкесс...|0.12319562690839514|\n",
      "| Республика Дагестан|0.12935039014984046|\n",
      "|Республика Татарс...|0.14150150293888705|\n",
      "| Ставропольский край|0.13401966931050247|\n",
      "|Республика Северн...|0.07930140237807017|\n",
      "| Республика Марий Эл| 0.0818500080733599|\n",
      "|Республика Адыгея...|0.16330124345063626|\n",
      "|  Республика Бурятия|0.13306357237654534|\n",
      "| Республика Калмыкия|0.15349925960543603|\n",
      "|       Пермский край|0.10105338052282166|\n",
      "|  Краснодарский край|0.13940623710253583|\n",
      "|     Приморский край|0.16641672216989184|\n",
      "|Кабардино-Балкарс...|0.03760708051294459|\n",
      "|  Забайкальский край|0.11979231763260301|\n",
      "+--------------------+-------------------+\n",
      "only showing top 20 rows\n",
      "\n"
     ]
    }
   ],
   "source": [
    "df.groupBy('region').agg(F.stddev((sum([F.col(col)for col in counted_votes_cols])) / df.registered_voters).alias('std')).show()\n"
   ]
  },
  {
   "cell_type": "markdown",
   "metadata": {},
   "source": [
    "Для каждого кандидата посчитать таблицу: результат (%, округленный до целого) - количество УИК, на которых кандидат получил данный результат"
   ]
  },
  {
   "cell_type": "code",
   "execution_count": 111,
   "metadata": {},
   "outputs": [
    {
     "name": "stdout",
     "output_type": "stream",
     "text": [
      "+---------------+---------+\n",
      "|baburin_percent|uik_count|\n",
      "+---------------+---------+\n",
      "|             20|        2|\n",
      "+---------------+---------+\n",
      "\n",
      "+----------------+---------+\n",
      "|grudinin_percent|uik_count|\n",
      "+----------------+---------+\n",
      "|              20|      362|\n",
      "+----------------+---------+\n",
      "\n",
      "+-------------------+---------+\n",
      "|zhirinovsky_percent|uik_count|\n",
      "+-------------------+---------+\n",
      "|                 20|       57|\n",
      "+-------------------+---------+\n",
      "\n",
      "+-------------+---------+\n",
      "|putin_percent|uik_count|\n",
      "+-------------+---------+\n",
      "|           20|       12|\n",
      "+-------------+---------+\n",
      "\n",
      "+---------------+---------+\n",
      "|sobchak_percent|uik_count|\n",
      "+---------------+---------+\n",
      "|             20|        4|\n",
      "+---------------+---------+\n",
      "\n",
      "+----------------+---------+\n",
      "|suraykin_percent|uik_count|\n",
      "+----------------+---------+\n",
      "+----------------+---------+\n",
      "\n",
      "+-------------+---------+\n",
      "|titov_percent|uik_count|\n",
      "+-------------+---------+\n",
      "|           20|        2|\n",
      "+-------------+---------+\n",
      "\n",
      "+-----------------+---------+\n",
      "|yavlinsky_percent|uik_count|\n",
      "+-----------------+---------+\n",
      "+-----------------+---------+\n",
      "\n"
     ]
    }
   ],
   "source": [
    "def get_candidate_table(cand, result_percent):\n",
    "    temp = df.withColumn(f'{cand}_percent', F.ceil(100 * F.col(cand) / df.registered_voters))\n",
    "    return temp.filter(F.col(f'{cand}_percent') ==  result_percent). \\\n",
    "        groupBy(F.col(f'{cand}_percent')) \\\n",
    "        .agg(F.count(F.col(f'{cand}_percent')).alias('uik_count')) \\\n",
    "        .sort(F.col('uik_count'), ascending=False)\n",
    "        \n",
    "\n",
    "candidates = df.columns[-8:]\n",
    "for candidate in candidates:\n",
    "   get_candidate_table(candidate, 20).show()\n"
   ]
  },
  {
   "cell_type": "code",
   "execution_count": 110,
   "metadata": {},
   "outputs": [
    {
     "name": "stdout",
     "output_type": "stream",
     "text": [
      "baburin\n",
      "+-------------+-----+\n",
      "|baburin_share|count|\n",
      "+-------------+-----+\n",
      "|           20|    2|\n",
      "+-------------+-----+\n",
      "\n",
      "grudinin\n",
      "+--------------+-----+\n",
      "|grudinin_share|count|\n",
      "+--------------+-----+\n",
      "|            20|  362|\n",
      "+--------------+-----+\n",
      "\n",
      "zhirinovsky\n",
      "+-----------------+-----+\n",
      "|zhirinovsky_share|count|\n",
      "+-----------------+-----+\n",
      "|               20|   57|\n",
      "+-----------------+-----+\n",
      "\n",
      "putin\n",
      "+-----------+-----+\n",
      "|putin_share|count|\n",
      "+-----------+-----+\n",
      "|         20|   12|\n",
      "+-----------+-----+\n",
      "\n",
      "sobchak\n",
      "+-------------+-----+\n",
      "|sobchak_share|count|\n",
      "+-------------+-----+\n",
      "|           20|    4|\n",
      "+-------------+-----+\n",
      "\n",
      "suraykin\n",
      "+--------------+-----+\n",
      "|suraykin_share|count|\n",
      "+--------------+-----+\n",
      "+--------------+-----+\n",
      "\n",
      "titov\n",
      "+-----------+-----+\n",
      "|titov_share|count|\n",
      "+-----------+-----+\n",
      "|         20|    2|\n",
      "+-----------+-----+\n",
      "\n",
      "yavlinsky\n",
      "+---------------+-----+\n",
      "|yavlinsky_share|count|\n",
      "+---------------+-----+\n",
      "+---------------+-----+\n",
      "\n"
     ]
    }
   ],
   "source": [
    "def show_share_counts(cand, result):\n",
    "    temp = df.withColumn(f'{cand}_share', F.ceil(100 * F.col(cand) / df.registered_voters))\n",
    "    temp = temp.filter(F.col(f'{cand}_share') ==  result). \\\n",
    "        groupBy(F.col(f'{cand}_share')) \\\n",
    "        .agg(F.count(F.col(f'{cand}_share')).alias('count')) \\\n",
    "        .sort(F.col('count'), ascending=False) \\\n",
    "        .show()\n",
    "\n",
    "cands_list = df.columns[-8:]\n",
    "for c in cands_list:\n",
    "    print(c)\n",
    "    show_share_counts(c, 20)\n",
    "\n"
   ]
  }
 ],
 "metadata": {
  "interpreter": {
   "hash": "1448b48b023bcc9c3d4a79e814720a10ca6d4244f75e0f7ce4af58f96ba2b7d3"
  },
  "kernelspec": {
   "display_name": "Python 3.9.12 ('base')",
   "language": "python",
   "name": "python3"
  },
  "language_info": {
   "codemirror_mode": {
    "name": "ipython",
    "version": 3
   },
   "file_extension": ".py",
   "mimetype": "text/x-python",
   "name": "python",
   "nbconvert_exporter": "python",
   "pygments_lexer": "ipython3",
   "version": "3.9.12"
  },
  "orig_nbformat": 4
 },
 "nbformat": 4,
 "nbformat_minor": 2
}
