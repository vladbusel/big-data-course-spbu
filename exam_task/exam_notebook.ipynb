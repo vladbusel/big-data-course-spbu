{
 "cells": [
  {
   "cell_type": "code",
   "execution_count": 3,
   "metadata": {},
   "outputs": [],
   "source": [
    "import pyspark\n",
    "from pyspark.sql import SparkSession\n",
    "import pyspark.sql.functions as F\n",
    "from pyspark.sql.types import StructType, StructField, IntegerType, DateType\n"
   ]
  },
  {
   "cell_type": "code",
   "execution_count": 4,
   "metadata": {},
   "outputs": [],
   "source": [
    "spark = SparkSession.builder.appName('pyspark').getOrCreate()\n",
    "\n",
    "FILENAME = '../temperature_data.txt'\n",
    "schema = StructType([\n",
    "    StructField('Day', DateType(), False),\n",
    "    StructField('t', IntegerType(), False),\n",
    "])\n",
    "\n",
    "df = spark.read.csv(FILENAME, schema=schema)\n",
    "\n"
   ]
  },
  {
   "cell_type": "code",
   "execution_count": 7,
   "metadata": {},
   "outputs": [
    {
     "name": "stdout",
     "output_type": "stream",
     "text": [
      "+----+------------------+\n",
      "|year|stddev_samp(avg_t)|\n",
      "+----+------------------+\n",
      "|2010| 12.57875744986771|\n",
      "+----+------------------+\n",
      "only showing top 1 row\n",
      "\n"
     ]
    }
   ],
   "source": [
    "new_df = df.select(F.year(\"Day\").alias(\"year\"), F.month(\"Day\").alias(\"month\"), \"t\")\n",
    "\n",
    "grouped = new_df.groupBy(['year','month']).agg(F.mean('t').alias('avg_t'))\n",
    "grouped.sort(['year','month'], ascending=True).dropna()\n",
    "\n",
    "grouped.groupBy('year').agg(F.stddev(F.col('avg_t'))).dropna().sort(F.col('stddev_samp(avg_t)'), ascending=False).show(1)\n"
   ]
  },
  {
   "cell_type": "code",
   "execution_count": 8,
   "metadata": {},
   "outputs": [
    {
     "name": "stdout",
     "output_type": "stream",
     "text": [
      "+----+------------------+\n",
      "|year|stddev_samp(avg_t)|\n",
      "+----+------------------+\n",
      "|2010| 12.57875744986771|\n",
      "|2011|10.634509176672408|\n",
      "|2012| 10.63257898576577|\n",
      "|2013| 10.37806618135188|\n",
      "|2016|10.034330208723265|\n",
      "|2014|   9.6816622392947|\n",
      "|2009| 9.377698668187579|\n",
      "|2015| 7.970702144434064|\n",
      "|2008|7.7567808123431785|\n",
      "+----+------------------+\n",
      "\n"
     ]
    }
   ],
   "source": [
    "grouped.groupBy('year').agg(F.stddev(F.col('avg_t'))).dropna().sort(F.col('stddev_samp(avg_t)'), ascending=False).show()\n"
   ]
  }
 ],
 "metadata": {
  "interpreter": {
   "hash": "1448b48b023bcc9c3d4a79e814720a10ca6d4244f75e0f7ce4af58f96ba2b7d3"
  },
  "kernelspec": {
   "display_name": "Python 3.9.12 ('base')",
   "language": "python",
   "name": "python3"
  },
  "language_info": {
   "codemirror_mode": {
    "name": "ipython",
    "version": 3
   },
   "file_extension": ".py",
   "mimetype": "text/x-python",
   "name": "python",
   "nbconvert_exporter": "python",
   "pygments_lexer": "ipython3",
   "version": "3.9.12"
  },
  "orig_nbformat": 4
 },
 "nbformat": 4,
 "nbformat_minor": 2
}
