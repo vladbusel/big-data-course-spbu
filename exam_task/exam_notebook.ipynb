{
 "cells": [
  {
   "cell_type": "code",
   "execution_count": 5,
   "metadata": {},
   "outputs": [],
   "source": [
    "import pyspark\n",
    "from pyspark.sql import SparkSession\n",
    "import pyspark.sql.functions as F\n",
    "from pyspark.sql.types import StructType, StructField, StringType, IntegerType, DateType\n"
   ]
  },
  {
   "cell_type": "code",
   "execution_count": 19,
   "metadata": {},
   "outputs": [],
   "source": [
    "spark = SparkSession.builder.appName('pyspark').getOrCreate()\n",
    "\n",
    "FILENAME = '../temperature_data.txt'\n",
    "# regin,tik,uik,registered_voters,total_ballots,early_voters,tik_voters,home_voters,empty_ballots,home_ballots,tik_ballots,\n",
    "# bad_ballots,normal_ballots,missing_ballots,extra_ballots,baburin,grudinin,zhirinovsky,putin,sobchak,suraykin,titov,yavlinsky\n",
    "schema = StructType([\n",
    "    StructField('Day', DateType(), False),\n",
    "    StructField('t', IntegerType(), False),\n",
    "])\n",
    "\n",
    "df = spark.read.csv(FILENAME, schema=schema)\n",
    "\n"
   ]
  },
  {
   "cell_type": "code",
   "execution_count": 33,
   "metadata": {},
   "outputs": [
    {
     "name": "stdout",
     "output_type": "stream",
     "text": [
      "+----+------------------+\n",
      "|year|stddev_samp(avg_t)|\n",
      "+----+------------------+\n",
      "|2010| 385.4535698958495|\n",
      "+----+------------------+\n",
      "only showing top 1 row\n",
      "\n"
     ]
    }
   ],
   "source": [
    "new_df = df.select(F.year(\"Day\").alias(\"year\"), F.month(\"Day\").alias(\"month\"), \"t\")\n",
    "\n",
    "grouped = new_df.groupBy(['year','month']).agg(F.sum('t').alias('avg_t'))\n",
    "grouped.sort(['year','month'], ascending=True).dropna()\n",
    "\n",
    "grouped.groupBy('year').agg(F.stddev(F.col('avg_t'))).dropna().sort(F.col('stddev_samp(avg_t)'), ascending=False).show(1)\n"
   ]
  },
  {
   "cell_type": "code",
   "execution_count": 34,
   "metadata": {},
   "outputs": [
    {
     "name": "stdout",
     "output_type": "stream",
     "text": [
      "+----+------------------+\n",
      "|year|stddev_samp(avg_t)|\n",
      "+----+------------------+\n",
      "|2010| 385.4535698958495|\n",
      "|2012|323.68344056650426|\n",
      "|2011|  319.156404613883|\n",
      "|2013|318.04102079620316|\n",
      "|2016| 308.4830430976521|\n",
      "|2014| 297.9674580564228|\n",
      "|2009|  287.146304172629|\n",
      "|2015| 244.4443916437041|\n",
      "|2008|237.47438458354475|\n",
      "+----+------------------+\n",
      "\n"
     ]
    }
   ],
   "source": [
    "grouped.groupBy('year').agg(F.stddev(F.col('avg_t'))).dropna().sort(F.col('stddev_samp(avg_t)'), ascending=False).show()\n"
   ]
  }
 ],
 "metadata": {
  "interpreter": {
   "hash": "1448b48b023bcc9c3d4a79e814720a10ca6d4244f75e0f7ce4af58f96ba2b7d3"
  },
  "kernelspec": {
   "display_name": "Python 3.9.12 ('base')",
   "language": "python",
   "name": "python3"
  },
  "language_info": {
   "codemirror_mode": {
    "name": "ipython",
    "version": 3
   },
   "file_extension": ".py",
   "mimetype": "text/x-python",
   "name": "python",
   "nbconvert_exporter": "python",
   "pygments_lexer": "ipython3",
   "version": "3.9.12"
  },
  "orig_nbformat": 4
 },
 "nbformat": 4,
 "nbformat_minor": 2
}
