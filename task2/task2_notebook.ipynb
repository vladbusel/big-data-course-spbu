{
 "cells": [
  {
   "cell_type": "code",
   "execution_count": 1,
   "metadata": {},
   "outputs": [],
   "source": [
    "import numpy as np\n",
    "\n",
    "FILE = './numbers.txt'\n",
    "NUM_COUNT = 2000\n",
    "THREAD_COUNT = 4"
   ]
  },
  {
   "cell_type": "code",
   "execution_count": 2,
   "metadata": {},
   "outputs": [],
   "source": [
    "def generate_file(num_count = NUM_COUNT, filename = FILE):   \n",
    "    numbers = np.random.randint(0, 2**32, num_count, dtype=np.dtype(np.uint32))\n",
    "    res = \"\\n\".join(list(map(lambda x: str(x), numbers)))\n",
    "    with open(filename, 'w') as f:\n",
    "        f.writelines(res)\n",
    "\n",
    "generate_file()"
   ]
  },
  {
   "cell_type": "code",
   "execution_count": 3,
   "metadata": {},
   "outputs": [],
   "source": [
    "def factorize(num):\n",
    "    div_list = []\n",
    "    div = 2\n",
    "    while div**2 <= num:\n",
    "        if num % div == 0:\n",
    "            div_list.append(div)\n",
    "            num //= div\n",
    "        else:\n",
    "            div += 1\n",
    "    if num > 1:\n",
    "        div_list.append(num)\n",
    "    return div_list"
   ]
  },
  {
   "cell_type": "code",
   "execution_count": 4,
   "metadata": {},
   "outputs": [
    {
     "data": {
      "text/plain": [
       "[2, 2, 3]"
      ]
     },
     "execution_count": 4,
     "metadata": {},
     "output_type": "execute_result"
    }
   ],
   "source": [
    "factorize(12)"
   ]
  },
  {
   "cell_type": "code",
   "execution_count": 5,
   "metadata": {},
   "outputs": [
    {
     "data": {
      "text/plain": [
       "[]"
      ]
     },
     "execution_count": 5,
     "metadata": {},
     "output_type": "execute_result"
    }
   ],
   "source": [
    "factorize(1) # единицу не считаем"
   ]
  },
  {
   "cell_type": "code",
   "execution_count": 6,
   "metadata": {},
   "outputs": [
    {
     "data": {
      "text/plain": [
       "[11]"
      ]
     },
     "execution_count": 6,
     "metadata": {},
     "output_type": "execute_result"
    }
   ],
   "source": [
    "factorize(11)"
   ]
  },
  {
   "cell_type": "markdown",
   "metadata": {},
   "source": [
    "Обычный подсчет"
   ]
  },
  {
   "cell_type": "code",
   "execution_count": 7,
   "metadata": {},
   "outputs": [
    {
     "name": "stdout",
     "output_type": "stream",
     "text": [
      "CPU times: user 3.99 s, sys: 7.65 ms, total: 4 s\n",
      "Wall time: 4 s\n"
     ]
    },
    {
     "data": {
      "text/plain": [
       "8307"
      ]
     },
     "execution_count": 7,
     "metadata": {},
     "output_type": "execute_result"
    }
   ],
   "source": [
    "%%time\n",
    "numbers = []\n",
    "with open(FILE, 'r') as file:\n",
    "    line = file.readline()\n",
    "    while line != '':\n",
    "        numbers.append(int(line))\n",
    "        line = file.readline()\n",
    "\n",
    "sum(list(map(lambda x: len(factorize(x)), numbers)))"
   ]
  },
  {
   "cell_type": "markdown",
   "metadata": {},
   "source": [
    "Многопоточно (на Python - multiprocessing), с использованием примитивов синхронизации "
   ]
  },
  {
   "cell_type": "code",
   "execution_count": 8,
   "metadata": {},
   "outputs": [],
   "source": [
    "from multiprocessing import Pool\n",
    "import mmap\n"
   ]
  },
  {
   "cell_type": "code",
   "execution_count": 9,
   "metadata": {},
   "outputs": [
    {
     "name": "stdout",
     "output_type": "stream",
     "text": [
      "8307\n",
      "CPU times: user 10.5 ms, sys: 24.1 ms, total: 34.5 ms\n",
      "Wall time: 1.58 s\n"
     ]
    }
   ],
   "source": [
    "%%time\n",
    "def factorize_numbers(numbers):\n",
    "    count = 0\n",
    "    for number in numbers:\n",
    "        count += len(factorize(int(number)))\n",
    "    return count\n",
    "\n",
    "def process_wrapper(res):\n",
    "    line = map_file.readline()\n",
    "    while line != '':\n",
    "        res.append(factorize(int(line)))\n",
    "        line = map_file.readline()\n",
    "    return res\n",
    "\n",
    "\n",
    "count = 0\n",
    "num_list = []\n",
    "with open(FILE, \"r+b\") as f:\n",
    "         with mmap.mmap(f.fileno(), length=0, prot=mmap.PROT_READ) as map_file:\n",
    "            new_line = map_file.readline()\n",
    "            while new_line != b'':\n",
    "                num_list.append(int(new_line))\n",
    "                new_line = map_file.readline()\n",
    "\n",
    "split_array = np.array_split(np.array(num_list), THREAD_COUNT)\n",
    "\n",
    "with Pool(THREAD_COUNT) as pool:\n",
    "    results = pool.map(factorize_numbers, split_array)\n",
    "print(np.sum(results))"
   ]
  },
  {
   "cell_type": "code",
   "execution_count": 10,
   "metadata": {},
   "outputs": [],
   "source": [
    "from multiprocessing import Process, Value, Lock, Semaphore\n",
    "import os"
   ]
  },
  {
   "cell_type": "code",
   "execution_count": 11,
   "metadata": {},
   "outputs": [],
   "source": [
    "def split_params(file, max_threads):\n",
    "    file_size = os.stat(FILE).st_size\n",
    "    batch_size = mmap.ALLOCATIONGRANULARITY\n",
    "    batchs_count = -(-file_size // batch_size) # Округляем в большую сторону\n",
    "    split_line_index = np.array_split(np.array([i for i in range(batchs_count)]), THREAD_COUNT)\n",
    "    for i in range(max_threads):\n",
    "        thread_size = (len(split_line_index[i])) * batch_size\n",
    "        offset = 0 if (i == 0) else offset + length + 1\n",
    "        length = min(file_size - offset - 1, thread_size)\n",
    "        if i != max_threads-1:\n",
    "            file.seek(offset+length)\n",
    "            fr = file.read(1)\n",
    "            while fr != b'\\n':\n",
    "                length += 1\n",
    "                fr = file.read(1)\n",
    "        file.seek(0)\n",
    "        yield i, {'fileno': file.fileno(),\n",
    "                  'length': length,\n",
    "                  'offset': offset,\n",
    "                  'access': mmap.ACCESS_READ}"
   ]
  },
  {
   "cell_type": "code",
   "execution_count": 12,
   "metadata": {},
   "outputs": [],
   "source": [
    "offset = 0\n",
    "with open(FILE, \"r+b\") as f:    \n",
    "        for i, params in split_params(f, THREAD_COUNT):\n",
    "                f.seek(params['offset'])\n",
    "                with open(f'./file{i}.txt', \"wb\") as output:    \n",
    "                        output.write(f.read(params['length']))"
   ]
  },
  {
   "cell_type": "code",
   "execution_count": 13,
   "metadata": {},
   "outputs": [
    {
     "name": "stdout",
     "output_type": "stream",
     "text": [
      "CPU times: user 1.09 ms, sys: 19.9 ms, total: 21 ms\n",
      "Wall time: 1.81 s\n"
     ]
    },
    {
     "data": {
      "text/plain": [
       "8307"
      ]
     },
     "execution_count": 13,
     "metadata": {},
     "output_type": "execute_result"
    }
   ],
   "source": [
    "%%time\n",
    "lock = Lock()\n",
    "# semaphore = Semaphore(1)\n",
    "\n",
    "def process(res, i):\n",
    "    with open(f'file{i}.txt', \"r+b\") as f:    \n",
    "        with mmap.mmap(f.fileno(), length=0, prot=mmap.PROT_READ) as map_file:\n",
    "            line = map_file.readline()\n",
    "            local_res = 0\n",
    "            while line != b'':\n",
    "                local_res += len(factorize(int(line)))\n",
    "                line = map_file.readline()\n",
    "            with lock:\n",
    "                res.value += local_res\n",
    "            return res\n",
    "\n",
    "threads = []\n",
    "res = Value('i', 0)\n",
    "\n",
    "split_line_index = np.array_split(np.array([i for i in range(NUM_COUNT)]), THREAD_COUNT)\n",
    "with open(FILE, \"r+b\") as f:     \n",
    "        for i in range(THREAD_COUNT):\n",
    "            thread = Process(target=process, args=(res, i))\n",
    "            threads.append(thread)\n",
    "\n",
    "        for thread in threads:\n",
    "            thread.start()\n",
    "\n",
    "        for thread in threads:\n",
    "            thread.join()\n",
    "\n",
    "res.value"
   ]
  },
  {
   "cell_type": "markdown",
   "metadata": {},
   "source": [
    "С помощью Ray"
   ]
  },
  {
   "cell_type": "code",
   "execution_count": 14,
   "metadata": {},
   "outputs": [],
   "source": [
    "import ray\n"
   ]
  },
  {
   "cell_type": "code",
   "execution_count": 15,
   "metadata": {},
   "outputs": [
    {
     "name": "stdout",
     "output_type": "stream",
     "text": [
      "CPU times: user 53 ms, sys: 43.7 ms, total: 96.8 ms\n",
      "Wall time: 3.23 s\n"
     ]
    },
    {
     "data": {
      "text/plain": [
       "RayContext(dashboard_url='', python_version='3.9.12', ray_version='1.13.0', ray_commit='e4ce38d001dbbe09cd21c497fedd03d692b2be3e', address_info={'node_ip_address': '192.168.1.110', 'raylet_ip_address': '192.168.1.110', 'redis_address': None, 'object_store_address': '/tmp/ray/session_2022-06-10_11-30-21_267987_12439/sockets/plasma_store', 'raylet_socket_name': '/tmp/ray/session_2022-06-10_11-30-21_267987_12439/sockets/raylet', 'webui_url': '', 'session_dir': '/tmp/ray/session_2022-06-10_11-30-21_267987_12439', 'metrics_export_port': 62388, 'gcs_address': '192.168.1.110:47904', 'address': '192.168.1.110:47904', 'node_id': '266fc5391e27ea30daef692d0a73642fbfdece1caa8a07a6847d7e28'})"
      ]
     },
     "execution_count": 15,
     "metadata": {},
     "output_type": "execute_result"
    }
   ],
   "source": [
    "%%time\n",
    "ray.init(num_cpus=4)"
   ]
  },
  {
   "cell_type": "code",
   "execution_count": 16,
   "metadata": {},
   "outputs": [
    {
     "name": "stdout",
     "output_type": "stream",
     "text": [
      "8307\n",
      "CPU times: user 32.6 ms, sys: 4.81 ms, total: 37.4 ms\n",
      "Wall time: 2.84 s\n"
     ]
    }
   ],
   "source": [
    "%%time\n",
    "@ray.remote\n",
    "def map(obj, f):\n",
    "    return f(obj)\n",
    "\n",
    "def map_func(num_list):\n",
    "    sum = 0\n",
    "    for num in num_list:\n",
    "        res = factorize(num)\n",
    "        sum += len(res)\n",
    "    return sum\n",
    "\n",
    "@ray.remote\n",
    "def sum_results(*counts):\n",
    "    return np.sum(counts)\n",
    "\n",
    "num_list = []\n",
    "with open(FILE, \"r+b\") as f:\n",
    "        with mmap.mmap(f.fileno(), length=0, prot=mmap.PROT_READ) as map_file: \n",
    "            new_line = map_file.readline()\n",
    "            while new_line != b'':\n",
    "                num_list.append(int(new_line))\n",
    "                new_line = map_file.readline()\n",
    "split_array = np.array_split(np.array(num_list), THREAD_COUNT)\n",
    "\n",
    "factors_counts = [map.remote(subarray, map_func) for subarray in split_array]\n",
    "final_sum = sum_results.remote(*factors_counts)\n",
    "res = ray.get(final_sum)\n",
    "print(res)\n"
   ]
  }
 ],
 "metadata": {
  "interpreter": {
   "hash": "1448b48b023bcc9c3d4a79e814720a10ca6d4244f75e0f7ce4af58f96ba2b7d3"
  },
  "kernelspec": {
   "display_name": "Python 3.9.12 ('base')",
   "language": "python",
   "name": "python3"
  },
  "language_info": {
   "codemirror_mode": {
    "name": "ipython",
    "version": 3
   },
   "file_extension": ".py",
   "mimetype": "text/x-python",
   "name": "python",
   "nbconvert_exporter": "python",
   "pygments_lexer": "ipython3",
   "version": "3.9.12"
  },
  "orig_nbformat": 4
 },
 "nbformat": 4,
 "nbformat_minor": 2
}
