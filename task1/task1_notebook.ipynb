{
 "cells": [
  {
   "cell_type": "code",
   "execution_count": 84,
   "metadata": {},
   "outputs": [],
   "source": [
    "import numpy as np\n",
    "import os\n",
    "\n",
    "FILE = './bitfile.bin'\n",
    "INT32_SIZE = 4"
   ]
  },
  {
   "cell_type": "code",
   "execution_count": 85,
   "metadata": {},
   "outputs": [],
   "source": [
    "def print_result(_sum, min_value, max_value):\n",
    "    print(f\"Сумма = {_sum};\\nМинимальное значение = {min_value};\\nМаксимальное значение: {max_value}.\")\n"
   ]
  },
  {
   "cell_type": "markdown",
   "metadata": {},
   "source": [
    "1. Простое последовательное чтение "
   ]
  },
  {
   "cell_type": "markdown",
   "metadata": {},
   "source": [
    "Чтение с numpy"
   ]
  },
  {
   "cell_type": "code",
   "execution_count": 86,
   "metadata": {},
   "outputs": [
    {
     "name": "stdout",
     "output_type": "stream",
     "text": [
      "Сумма = 1152904582664695789;\n",
      "Минимальное значение = 6;\n",
      "Максимальное значение: 4294967289.\n",
      "Размер файла: 2.0 Гб.\n",
      "CPU times: user 1.35 s, sys: 3.86 s, total: 5.22 s\n",
      "Wall time: 5.8 s\n"
     ]
    }
   ],
   "source": [
    "%%time\n",
    "def read_fromfile(filepath = FILE):\n",
    "    return np.fromfile(filepath, dtype=np.uint32)\n",
    "\n",
    "numbers = read_fromfile()\n",
    "print_result(np.sum(numbers), np.min(numbers), np.max(numbers))\n",
    "print(f\"Размер файла: {len(numbers) * 4 / (1024**3)} Гб.\")\n"
   ]
  },
  {
   "cell_type": "code",
   "execution_count": 87,
   "metadata": {},
   "outputs": [
    {
     "name": "stdout",
     "output_type": "stream",
     "text": [
      "Сумма = 1152904582664695789;\n",
      "Минимальное значение = 6;\n",
      "Максимальное значение: 4294967289.\n",
      "CPU times: user 1.48 s, sys: 1.55 s, total: 3.03 s\n",
      "Wall time: 3.7 s\n"
     ]
    }
   ],
   "source": [
    "%%time\n",
    "def read_frombuffer(filepath = FILE):\n",
    "    with open(filepath, 'rb') as f:\n",
    "        return np.frombuffer(f.read(), dtype=np.uint32)\n",
    "\n",
    "numbers = read_frombuffer()\n",
    "print_result(np.sum(numbers), np.min(numbers), np.max(numbers))\n"
   ]
  },
  {
   "cell_type": "markdown",
   "metadata": {},
   "source": [
    "Чтение без numpy"
   ]
  },
  {
   "cell_type": "code",
   "execution_count": 88,
   "metadata": {},
   "outputs": [
    {
     "name": "stdout",
     "output_type": "stream",
     "text": [
      "Сумма = 1152888645987318649;\n",
      "Минимальное значение = 1;\n",
      "Максимальное значение: 4294967285.\n",
      "CPU times: user 4min 10s, sys: 1.49 s, total: 4min 12s\n",
      "Wall time: 4min 13s\n"
     ]
    }
   ],
   "source": [
    "%%time\n",
    "def bin_read(filepath = FILE):\n",
    "    num_sum = 0\n",
    "    with open(filepath, 'rb') as f:\n",
    "        int32_bytes = f.read(INT32_SIZE)\n",
    "        min_value = int.from_bytes(int32_bytes, byteorder='big', signed=False)\n",
    "        max_value = min_value\n",
    "        while int32_bytes:\n",
    "            new_value = int.from_bytes(int32_bytes, byteorder='big', signed=False)\n",
    "            num_sum += new_value\n",
    "            min_value = min(min_value, new_value)\n",
    "            max_value = max(max_value, new_value)\n",
    "            int32_bytes = f.read(INT32_SIZE)\n",
    "\n",
    "    return num_sum, min_value, max_value\n",
    "\n",
    "num_sum, min_value, max_value = bin_read()\n",
    "print_result(num_sum, min_value, max_value)\n"
   ]
  },
  {
   "cell_type": "markdown",
   "metadata": {},
   "source": [
    "2. Многопоточная + memory-mapped files"
   ]
  },
  {
   "cell_type": "code",
   "execution_count": 126,
   "metadata": {},
   "outputs": [],
   "source": [
    "import threading\n",
    "from multiprocessing import Process, Manager\n",
    "import mmap\n",
    "\n",
    "lock = threading.Lock()\n",
    "global thread_results\n"
   ]
  },
  {
   "cell_type": "code",
   "execution_count": 150,
   "metadata": {},
   "outputs": [],
   "source": [
    "def mmap_params_with_index(file, max_threads):\n",
    "    file_size = os.stat(FILE).st_size\n",
    "    batch_size = mmap.ALLOCATIONGRANULARITY\n",
    "    batchs_count = -(-file_size // batch_size) # Округляем в большую сторону\n",
    "    batch_per_thread = -(-batchs_count // max_threads)\n",
    "    thread_size = batch_size*batch_per_thread\n",
    "    for i in range(max_threads):\n",
    "        offset = i*thread_size\n",
    "        length = min(file_size - offset, thread_size)\n",
    "\n",
    "        yield i, {'fileno': file.fileno(),\n",
    "                  'length': length,\n",
    "                  'offset': offset,\n",
    "                  'access': mmap.ACCESS_READ}\n",
    "\n",
    "def thread_target(mmap_params):\n",
    "    global thread_results\n",
    "    thread_results = [0, 2*32 + 1, -1]\n",
    "    num_sum = 0\n",
    "    with mmap.mmap(**mmap_params) as mm:\n",
    "        int32_bytes = mm.read(INT32_SIZE)\n",
    "        min_value = int.from_bytes(int32_bytes, byteorder='big', signed=False)\n",
    "        max_value = min_value\n",
    "        while int32_bytes:\n",
    "            new_value = int.from_bytes(int32_bytes, byteorder='big', signed=False)\n",
    "            num_sum += new_value\n",
    "            min_value = min(min_value, new_value)\n",
    "            max_value = max(max_value, new_value)\n",
    "            int32_bytes = mm.read(INT32_SIZE)\n",
    "            \n",
    "    with lock:\n",
    "        thread_results[0] += num_sum\n",
    "        thread_results[1] = min(min_value, thread_results[1])\n",
    "        thread_results[2] = max(max_value, thread_results[2])\n",
    "\n",
    "def np_thread_target(mmap_params):\n",
    "    global thread_results\n",
    "    thread_results = [0, 2*32 + 1, -1]\n",
    "    with mmap.mmap(**mmap_params) as mm:\n",
    "        numbers = np.frombuffer(mm.read(), dtype=np.uint32)\n",
    "\n",
    "    with lock:\n",
    "        num_sum, min_value, max_value = [np.sum(numbers), np.min(numbers), np.max(numbers)]\n",
    "        thread_results[0] += num_sum\n",
    "        thread_results[1] = min(min_value, thread_results[1])\n",
    "        thread_results[2] = max(max_value, thread_results[2])\n",
    "\n"
   ]
  },
  {
   "cell_type": "markdown",
   "metadata": {},
   "source": [
    "Потоки с обычным чтением"
   ]
  },
  {
   "cell_type": "code",
   "execution_count": 124,
   "metadata": {},
   "outputs": [],
   "source": [
    "def mmap_with_threads_read(filepath = FILE):\n",
    "    global thread_results\n",
    "\n",
    "    num_threads = 8\n",
    "    threads = []   \n",
    "    with open(filepath, 'rb') as f:    \n",
    "        for _, mmap_params in mmap_params_with_index(f, num_threads):\n",
    "            thread = threading.Thread(target=thread_target, args=[mmap_params])\n",
    "            threads.append(thread)\n",
    "\n",
    "        for thread in threads:\n",
    "            thread.start()\n",
    "\n",
    "        for thread in threads:\n",
    "            thread.join()\n",
    "\n",
    "    return thread_results\n"
   ]
  },
  {
   "cell_type": "code",
   "execution_count": 133,
   "metadata": {},
   "outputs": [
    {
     "name": "stdout",
     "output_type": "stream",
     "text": [
      "Сумма = 1152888645987318649;\n",
      "Минимальное значение = 1;\n",
      "Максимальное значение: 4294967285.\n",
      "CPU times: user 4min 29s, sys: 2.35 s, total: 4min 31s\n",
      "Wall time: 4min 26s\n"
     ]
    }
   ],
   "source": [
    "%%time\n",
    "result = mmap_with_threads_read()\n",
    "print_result(result[0], result[1], result[2])"
   ]
  },
  {
   "cell_type": "markdown",
   "metadata": {},
   "source": [
    "Потоки с использованием numpy"
   ]
  },
  {
   "cell_type": "code",
   "execution_count": 134,
   "metadata": {},
   "outputs": [],
   "source": [
    "def np_mmap_with_threads_read(filepath = FILE, num_threads = 8):\n",
    "    global thread_results\n",
    "\n",
    "    threads = []   \n",
    "    with open(filepath, 'rb') as f:    \n",
    "        for _, mmap_params in mmap_params_with_index(f, num_threads):\n",
    "            thread = threading.Thread(target=np_thread_target, args=(mmap_params,))\n",
    "            threads.append(thread)\n",
    "\n",
    "        for thread in threads:\n",
    "            thread.start()\n",
    "\n",
    "        for thread in threads:\n",
    "            thread.join()\n",
    "\n",
    "    return thread_results\n"
   ]
  },
  {
   "cell_type": "markdown",
   "metadata": {},
   "source": [
    "8 потоков"
   ]
  },
  {
   "cell_type": "code",
   "execution_count": 135,
   "metadata": {},
   "outputs": [
    {
     "name": "stdout",
     "output_type": "stream",
     "text": [
      "Сумма = 1.1529045826646958e+18;\n",
      "Минимальное значение = 6;\n",
      "Максимальное значение: 4294967289.\n",
      "CPU times: user 1.85 s, sys: 1e+03 ms, total: 2.85 s\n",
      "Wall time: 3.04 s\n"
     ]
    }
   ],
   "source": [
    "%%time\n",
    "result = np_mmap_with_threads_read()\n",
    "print_result(result[0], result[1], result[2])\n"
   ]
  },
  {
   "cell_type": "markdown",
   "metadata": {},
   "source": [
    "4 потока"
   ]
  },
  {
   "cell_type": "code",
   "execution_count": 137,
   "metadata": {},
   "outputs": [
    {
     "name": "stdout",
     "output_type": "stream",
     "text": [
      "Сумма = 1.1529045826646958e+18;\n",
      "Минимальное значение = 6;\n",
      "Максимальное значение: 4294967289.\n",
      "CPU times: user 2.02 s, sys: 801 ms, total: 2.82 s\n",
      "Wall time: 2.37 s\n"
     ]
    }
   ],
   "source": [
    "%%time\n",
    "result = np_mmap_with_threads_read(num_threads = 4)\n",
    "print_result(result[0], result[1], result[2])\n"
   ]
  },
  {
   "cell_type": "markdown",
   "metadata": {},
   "source": [
    "Чтение через процессы"
   ]
  },
  {
   "cell_type": "code",
   "execution_count": 142,
   "metadata": {},
   "outputs": [],
   "source": [
    "def proccess_target(index, mmap_params, return_list):\n",
    "    num_sum = 0\n",
    "    with mmap.mmap(**mmap_params) as mm:\n",
    "        int32_bytes = mm.read(INT32_SIZE)\n",
    "        min_value = int.from_bytes(int32_bytes, byteorder='big', signed=False)\n",
    "        max_value = min_value\n",
    "        while int32_bytes:\n",
    "            new_value = int.from_bytes(int32_bytes, byteorder='big', signed=False)\n",
    "            num_sum += new_value\n",
    "            min_value = min(min_value, new_value)\n",
    "            max_value = max(max_value, new_value)\n",
    "            int32_bytes = mm.read(INT32_SIZE)\n",
    "            \n",
    "    return_list[index] = num_sum, min_value, max_value\n",
    "\n",
    "def np_proccess_target(index, mmap_params, return_list):\n",
    "    with mmap.mmap(**mmap_params) as mm:\n",
    "        numbers = np.frombuffer(mm.read(), dtype=np.uint32)\n",
    "\n",
    "    return_list[index] = np.sum(numbers), np.min(numbers), np.max(numbers)\n"
   ]
  },
  {
   "cell_type": "code",
   "execution_count": 139,
   "metadata": {},
   "outputs": [],
   "source": [
    "def mmap_with_process_read(filepath = FILE, num_threads = 8):\n",
    "    result = Manager().dict()\n",
    "    threads = []   \n",
    "    with open(filepath, 'rb') as f:    \n",
    "        for i, mmap_params in mmap_params_with_index(f, num_threads):\n",
    "            thread = Process(target=proccess_target, args=(i, mmap_params, result))\n",
    "            threads.append(thread)\n",
    "\n",
    "        for thread in threads:\n",
    "            thread.start()\n",
    "\n",
    "        for thread in threads:\n",
    "            thread.join()\n",
    "\n",
    "    return result\n"
   ]
  },
  {
   "cell_type": "markdown",
   "metadata": {},
   "source": [
    "8 потоков"
   ]
  },
  {
   "cell_type": "code",
   "execution_count": 140,
   "metadata": {},
   "outputs": [
    {
     "name": "stdout",
     "output_type": "stream",
     "text": [
      "Сумма = 1152888645987318649;\n",
      "Минимальное значение = 1;\n",
      "Максимальное значение: 4294967285.\n",
      "CPU times: user 2.8 ms, sys: 352 ms, total: 355 ms\n",
      "Wall time: 1min 54s\n"
     ]
    }
   ],
   "source": [
    "%%time\n",
    "result = mmap_with_process_read()\n",
    "print_result(np.sum(list(map(lambda v: v[0], result.values()))),\\\n",
    "             np.min(list(map(lambda v: v[1], result.values()))),\\\n",
    "             np.max(list(map(lambda v: v[2], result.values()))))"
   ]
  },
  {
   "cell_type": "markdown",
   "metadata": {},
   "source": [
    "4 потока"
   ]
  },
  {
   "cell_type": "code",
   "execution_count": 141,
   "metadata": {},
   "outputs": [
    {
     "name": "stdout",
     "output_type": "stream",
     "text": [
      "Сумма = 1152888645987318649;\n",
      "Минимальное значение = 1;\n",
      "Максимальное значение: 4294967285.\n",
      "CPU times: user 6.48 ms, sys: 231 ms, total: 237 ms\n",
      "Wall time: 1min 58s\n"
     ]
    }
   ],
   "source": [
    "%%time\n",
    "result = mmap_with_process_read(num_threads = 4)\n",
    "print_result(np.sum(list(map(lambda v: v[0], result.values()))),\\\n",
    "             np.min(list(map(lambda v: v[1], result.values()))),\\\n",
    "             np.max(list(map(lambda v: v[2], result.values()))))"
   ]
  },
  {
   "cell_type": "markdown",
   "metadata": {},
   "source": [
    "Чтение через процессы с numpy"
   ]
  },
  {
   "cell_type": "code",
   "execution_count": 143,
   "metadata": {},
   "outputs": [],
   "source": [
    "def np_mmap_with_proccess_read(filepath = FILE, num_threads = 8):\n",
    "    result = Manager().dict()\n",
    "    threads = []   \n",
    "    with open(filepath, 'rb') as f:    \n",
    "        for i, mmap_params in mmap_params_with_index(f, num_threads):\n",
    "            thread = Process(target=np_proccess_target, args=(i, mmap_params, result))\n",
    "            threads.append(thread)\n",
    "\n",
    "        for thread in threads:\n",
    "            thread.start()\n",
    "\n",
    "        for thread in threads:\n",
    "            thread.join()\n",
    "\n",
    "    return result\n"
   ]
  },
  {
   "cell_type": "markdown",
   "metadata": {},
   "source": [
    "8 процессов"
   ]
  },
  {
   "cell_type": "code",
   "execution_count": 144,
   "metadata": {},
   "outputs": [
    {
     "name": "stdout",
     "output_type": "stream",
     "text": [
      "Сумма = 1152904582664695789;\n",
      "Минимальное значение = 6;\n",
      "Максимальное значение: 4294967289.\n",
      "CPU times: user 2.37 ms, sys: 648 ms, total: 650 ms\n",
      "Wall time: 1.72 s\n"
     ]
    }
   ],
   "source": [
    "%%time\n",
    "result = np_mmap_with_proccess_read()\n",
    "print_result(np.sum(list(map(lambda v: v[0], result.values()))),\\\n",
    "             np.min(list(map(lambda v: v[1], result.values()))),\\\n",
    "             np.max(list(map(lambda v: v[2], result.values()))))"
   ]
  },
  {
   "cell_type": "markdown",
   "metadata": {},
   "source": [
    "4 процесса"
   ]
  },
  {
   "cell_type": "code",
   "execution_count": 151,
   "metadata": {},
   "outputs": [
    {
     "name": "stdout",
     "output_type": "stream",
     "text": [
      "Сумма = 1152904582664695789;\n",
      "Минимальное значение = 6;\n",
      "Максимальное значение: 4294967289.\n",
      "CPU times: user 6.65 ms, sys: 207 ms, total: 213 ms\n",
      "Wall time: 1.54 s\n"
     ]
    }
   ],
   "source": [
    "%%time\n",
    "result = np_mmap_with_proccess_read(num_threads = 4)\n",
    "print_result(np.sum(list(map(lambda v: v[0], result.values()))),\\\n",
    "             np.min(list(map(lambda v: v[1], result.values()))),\\\n",
    "             np.max(list(map(lambda v: v[2], result.values()))))"
   ]
  },
  {
   "cell_type": "markdown",
   "metadata": {},
   "source": [
    "Заключение:\n",
    "- Чтение с numpy быстрее чем простое чтение;\n",
    "- Чтение с отдельными процессами быстрее чем через потоки, потоки быстрее чем последовательное чтение."
   ]
  }
 ],
 "metadata": {
  "interpreter": {
   "hash": "1448b48b023bcc9c3d4a79e814720a10ca6d4244f75e0f7ce4af58f96ba2b7d3"
  },
  "kernelspec": {
   "display_name": "Python 3.9.12 ('base')",
   "language": "python",
   "name": "python3"
  },
  "language_info": {
   "codemirror_mode": {
    "name": "ipython",
    "version": 3
   },
   "file_extension": ".py",
   "mimetype": "text/x-python",
   "name": "python",
   "nbconvert_exporter": "python",
   "pygments_lexer": "ipython3",
   "version": "3.9.12"
  },
  "orig_nbformat": 4
 },
 "nbformat": 4,
 "nbformat_minor": 2
}
